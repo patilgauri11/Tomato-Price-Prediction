{
 "cells": [
  {
   "cell_type": "markdown",
   "metadata": {},
   "source": [
    "# ThoughtWorks: HerTECH HACKATHON\n"
   ]
  },
  {
   "cell_type": "markdown",
   "metadata": {},
   "source": [
    "## DATA PRE-PROCESSING:"
   ]
  },
  {
   "cell_type": "markdown",
   "metadata": {},
   "source": [
    "### Exploratory Data Analysis and Data Pre-Processing:"
   ]
  },
  {
   "cell_type": "markdown",
   "metadata": {},
   "source": [
    "#### Importing python libraries:"
   ]
  },
  {
   "cell_type": "code",
   "execution_count": 1,
   "metadata": {},
   "outputs": [],
   "source": [
    "import pandas as pd\n",
    "import numpy as np\n",
    "\n",
    "import warnings\n",
    "def ignore_warn(*args, **kwargs):pass\n",
    "warnings.warn = ignore_warn #ignore annoying warning (from sklearn and seaborn)\n",
    "import seaborn as sns\n",
    " \n",
    "from matplotlib import pyplot as plt\n",
    "import matplotlib.pyplot as plt \n",
    "from sklearn.linear_model import LogisticRegression\n",
    "from sklearn.metrics import roc_auc_score\n",
    "\n",
    "from sklearn.model_selection import train_test_split\n",
    "from sklearn.linear_model import LinearRegression\n",
    "\n",
    "#from IPython.display import display\n",
    "#pd.set_option('display.max_columns', 100)"
   ]
  },
  {
   "cell_type": "markdown",
   "metadata": {},
   "source": [
    "#### Read the training & test data \"csv formats\":"
   ]
  },
  {
   "cell_type": "code",
   "execution_count": 2,
   "metadata": {},
   "outputs": [],
   "source": [
    "df_tomato=pd.read_csv(\"final_tomato.csv\")"
   ]
  },
  {
   "cell_type": "markdown",
   "metadata": {},
   "source": [
    "####  We take an overview of the whole training dataset by observing the rows and column values.\n",
    "> Pandas head() method is used to return top n (5 by default) rows of a data frame or series.\n"
   ]
  },
  {
   "cell_type": "code",
   "execution_count": 3,
   "metadata": {},
   "outputs": [
    {
     "data": {
      "text/html": [
       "<div>\n",
       "<style scoped>\n",
       "    .dataframe tbody tr th:only-of-type {\n",
       "        vertical-align: middle;\n",
       "    }\n",
       "\n",
       "    .dataframe tbody tr th {\n",
       "        vertical-align: top;\n",
       "    }\n",
       "\n",
       "    .dataframe thead th {\n",
       "        text-align: right;\n",
       "    }\n",
       "</style>\n",
       "<table border=\"1\" class=\"dataframe\">\n",
       "  <thead>\n",
       "    <tr style=\"text-align: right;\">\n",
       "      <th></th>\n",
       "      <th>State</th>\n",
       "      <th>District</th>\n",
       "      <th>Market</th>\n",
       "      <th>Variety of Product</th>\n",
       "      <th>Arrival Date</th>\n",
       "      <th>Min Price</th>\n",
       "      <th>Max Price</th>\n",
       "      <th>Modal_Price</th>\n",
       "      <th>Max Temperature</th>\n",
       "      <th>Min Temperature</th>\n",
       "      <th>Humidity (in Percentage)</th>\n",
       "      <th>Avg Rainfall (in mm)</th>\n",
       "    </tr>\n",
       "  </thead>\n",
       "  <tbody>\n",
       "    <tr>\n",
       "      <th>0</th>\n",
       "      <td>Maharashtra</td>\n",
       "      <td>Ahmednagar</td>\n",
       "      <td>Ahmednagar</td>\n",
       "      <td>Other</td>\n",
       "      <td>Jan</td>\n",
       "      <td>300</td>\n",
       "      <td>600</td>\n",
       "      <td>500</td>\n",
       "      <td>28</td>\n",
       "      <td>18</td>\n",
       "      <td>72</td>\n",
       "      <td>5</td>\n",
       "    </tr>\n",
       "    <tr>\n",
       "      <th>1</th>\n",
       "      <td>Maharashtra</td>\n",
       "      <td>Ahmednagar</td>\n",
       "      <td>Ahmednagar</td>\n",
       "      <td>Other</td>\n",
       "      <td>Jan</td>\n",
       "      <td>300</td>\n",
       "      <td>800</td>\n",
       "      <td>600</td>\n",
       "      <td>31</td>\n",
       "      <td>19</td>\n",
       "      <td>68</td>\n",
       "      <td>5</td>\n",
       "    </tr>\n",
       "    <tr>\n",
       "      <th>2</th>\n",
       "      <td>Maharashtra</td>\n",
       "      <td>Ahmednagar</td>\n",
       "      <td>Ahmednagar</td>\n",
       "      <td>Other</td>\n",
       "      <td>Jan</td>\n",
       "      <td>100</td>\n",
       "      <td>500</td>\n",
       "      <td>400</td>\n",
       "      <td>29</td>\n",
       "      <td>16</td>\n",
       "      <td>64</td>\n",
       "      <td>5</td>\n",
       "    </tr>\n",
       "    <tr>\n",
       "      <th>3</th>\n",
       "      <td>Maharashtra</td>\n",
       "      <td>Ahmednagar</td>\n",
       "      <td>Ahmednagar</td>\n",
       "      <td>Other</td>\n",
       "      <td>Jan</td>\n",
       "      <td>100</td>\n",
       "      <td>400</td>\n",
       "      <td>350</td>\n",
       "      <td>32</td>\n",
       "      <td>19</td>\n",
       "      <td>68</td>\n",
       "      <td>5</td>\n",
       "    </tr>\n",
       "    <tr>\n",
       "      <th>4</th>\n",
       "      <td>Maharashtra</td>\n",
       "      <td>Ahmednagar</td>\n",
       "      <td>Ahmednagar</td>\n",
       "      <td>Other</td>\n",
       "      <td>Jan</td>\n",
       "      <td>400</td>\n",
       "      <td>800</td>\n",
       "      <td>600</td>\n",
       "      <td>28</td>\n",
       "      <td>16</td>\n",
       "      <td>65</td>\n",
       "      <td>5</td>\n",
       "    </tr>\n",
       "  </tbody>\n",
       "</table>\n",
       "</div>"
      ],
      "text/plain": [
       "         State    District      Market Variety of Product Arrival Date   \\\n",
       "0  Maharashtra  Ahmednagar  Ahmednagar              Other           Jan   \n",
       "1  Maharashtra  Ahmednagar  Ahmednagar              Other           Jan   \n",
       "2  Maharashtra  Ahmednagar  Ahmednagar              Other           Jan   \n",
       "3  Maharashtra  Ahmednagar  Ahmednagar              Other           Jan   \n",
       "4  Maharashtra  Ahmednagar  Ahmednagar              Other           Jan   \n",
       "\n",
       "   Min Price  Max Price  Modal_Price  Max Temperature  Min Temperature  \\\n",
       "0        300        600          500               28               18   \n",
       "1        300        800          600               31               19   \n",
       "2        100        500          400               29               16   \n",
       "3        100        400          350               32               19   \n",
       "4        400        800          600               28               16   \n",
       "\n",
       "   Humidity (in Percentage)  Avg Rainfall (in mm)  \n",
       "0                        72                     5  \n",
       "1                        68                     5  \n",
       "2                        64                     5  \n",
       "3                        68                     5  \n",
       "4                        65                     5  "
      ]
     },
     "execution_count": 3,
     "metadata": {},
     "output_type": "execute_result"
    }
   ],
   "source": [
    "df_tomato.head()"
   ]
  },
  {
   "cell_type": "markdown",
   "metadata": {},
   "source": [
    "#### This .info() method can be used for observing the attributes before deciding on pre-processing needed.\n",
    "> This .info() method will give us the information on column names, datatypes, values, and memory used for attributes."
   ]
  },
  {
   "cell_type": "code",
   "execution_count": 4,
   "metadata": {
    "scrolled": true
   },
   "outputs": [
    {
     "name": "stdout",
     "output_type": "stream",
     "text": [
      "<class 'pandas.core.frame.DataFrame'>\n",
      "RangeIndex: 120 entries, 0 to 119\n",
      "Data columns (total 12 columns):\n",
      "State                       120 non-null object\n",
      "District                    120 non-null object\n",
      "Market                      120 non-null object\n",
      "Variety of Product          120 non-null object\n",
      "Arrival Date                120 non-null object\n",
      "Min Price                   120 non-null int64\n",
      "Max Price                   120 non-null int64\n",
      "Modal_Price                 120 non-null int64\n",
      "Max Temperature             120 non-null int64\n",
      "Min Temperature             120 non-null int64\n",
      "Humidity (in Percentage)    120 non-null int64\n",
      "Avg Rainfall (in mm)        120 non-null int64\n",
      "dtypes: int64(7), object(5)\n",
      "memory usage: 11.3+ KB\n"
     ]
    }
   ],
   "source": [
    "df_tomato.info()"
   ]
  },
  {
   "cell_type": "code",
   "execution_count": 5,
   "metadata": {},
   "outputs": [],
   "source": [
    "y_train = df_tomato.Modal_Price"
   ]
  },
  {
   "cell_type": "code",
   "execution_count": 6,
   "metadata": {},
   "outputs": [],
   "source": [
    "df_tomato.drop(columns=['State','District','Market','Variety of Product','Modal_Price'], axis=1, inplace=True)"
   ]
  },
  {
   "cell_type": "code",
   "execution_count": 7,
   "metadata": {
    "scrolled": true
   },
   "outputs": [
    {
     "name": "stdout",
     "output_type": "stream",
     "text": [
      "<class 'pandas.core.frame.DataFrame'>\n",
      "RangeIndex: 120 entries, 0 to 119\n",
      "Data columns (total 7 columns):\n",
      "Arrival Date                120 non-null object\n",
      "Min Price                   120 non-null int64\n",
      "Max Price                   120 non-null int64\n",
      "Max Temperature             120 non-null int64\n",
      "Min Temperature             120 non-null int64\n",
      "Humidity (in Percentage)    120 non-null int64\n",
      "Avg Rainfall (in mm)        120 non-null int64\n",
      "dtypes: int64(6), object(1)\n",
      "memory usage: 6.6+ KB\n"
     ]
    }
   ],
   "source": [
    "df_tomato.info()"
   ]
  },
  {
   "cell_type": "code",
   "execution_count": 8,
   "metadata": {},
   "outputs": [
    {
     "data": {
      "text/html": [
       "<div>\n",
       "<style scoped>\n",
       "    .dataframe tbody tr th:only-of-type {\n",
       "        vertical-align: middle;\n",
       "    }\n",
       "\n",
       "    .dataframe tbody tr th {\n",
       "        vertical-align: top;\n",
       "    }\n",
       "\n",
       "    .dataframe thead th {\n",
       "        text-align: right;\n",
       "    }\n",
       "</style>\n",
       "<table border=\"1\" class=\"dataframe\">\n",
       "  <thead>\n",
       "    <tr style=\"text-align: right;\">\n",
       "      <th></th>\n",
       "      <th>Missing Ratio</th>\n",
       "    </tr>\n",
       "  </thead>\n",
       "  <tbody>\n",
       "  </tbody>\n",
       "</table>\n",
       "</div>"
      ],
      "text/plain": [
       "Empty DataFrame\n",
       "Columns: [Missing Ratio]\n",
       "Index: []"
      ]
     },
     "execution_count": 8,
     "metadata": {},
     "output_type": "execute_result"
    }
   ],
   "source": [
    "df_tomato_na = (df_tomato.isnull().sum() / len(df_tomato)) * 100\n",
    "df_tomato_na = df_tomato_na.drop(df_tomato_na[df_tomato_na == 0].index).sort_values(ascending=False)[:30]\n",
    "missing_data = pd.DataFrame({'Missing Ratio' :df_tomato_na})\n",
    "missing_data.head(20)"
   ]
  },
  {
   "cell_type": "code",
   "execution_count": 9,
   "metadata": {},
   "outputs": [],
   "source": [
    "df_tomato[\"Min Price\"] = df_tomato[\"Min Price\"].fillna(0)\n",
    "df_tomato[\"Max Price\"] = df_tomato[\"Max Price\"].fillna(0)\n",
    "#df_tomato[\"Modal Price\"] = df_tomato[\"Modal Price\"].fillna(0)\n",
    "df_tomato[\"Max Temperature\"] = df_tomato[\"Max Temperature\"].fillna(0)\n",
    "df_tomato[\"Min Temperature\"] = df_tomato[\"Min Temperature\"].fillna(0)\n",
    "df_tomato[\"Humidity (in Percentage)\"] = df_tomato[\"Humidity (in Percentage)\"].fillna(0)\n",
    "df_tomato[\"Avg Rainfall (in mm)\"] = df_tomato[\"Avg Rainfall (in mm)\"].fillna(0)\n"
   ]
  },
  {
   "cell_type": "code",
   "execution_count": 10,
   "metadata": {},
   "outputs": [
    {
     "data": {
      "text/html": [
       "<div>\n",
       "<style scoped>\n",
       "    .dataframe tbody tr th:only-of-type {\n",
       "        vertical-align: middle;\n",
       "    }\n",
       "\n",
       "    .dataframe tbody tr th {\n",
       "        vertical-align: top;\n",
       "    }\n",
       "\n",
       "    .dataframe thead th {\n",
       "        text-align: right;\n",
       "    }\n",
       "</style>\n",
       "<table border=\"1\" class=\"dataframe\">\n",
       "  <thead>\n",
       "    <tr style=\"text-align: right;\">\n",
       "      <th></th>\n",
       "      <th>Missing Ratio</th>\n",
       "    </tr>\n",
       "  </thead>\n",
       "  <tbody>\n",
       "  </tbody>\n",
       "</table>\n",
       "</div>"
      ],
      "text/plain": [
       "Empty DataFrame\n",
       "Columns: [Missing Ratio]\n",
       "Index: []"
      ]
     },
     "execution_count": 10,
     "metadata": {},
     "output_type": "execute_result"
    }
   ],
   "source": [
    "df_tomato_na = (df_tomato.isnull().sum() / len(df_tomato)) * 100\n",
    "df_tomato_na = df_tomato_na.drop(df_tomato_na[df_tomato_na == 0].index).sort_values(ascending=False)[:30]\n",
    "missing_data = pd.DataFrame({'Missing Ratio' :df_tomato_na})\n",
    "missing_data.head(20)"
   ]
  },
  {
   "cell_type": "code",
   "execution_count": 11,
   "metadata": {},
   "outputs": [],
   "source": [
    "df_tomato = pd.get_dummies(df_tomato)"
   ]
  },
  {
   "cell_type": "code",
   "execution_count": 12,
   "metadata": {},
   "outputs": [],
   "source": [
    "\n",
    "df_tomato['Min Price'] = df_tomato['Min Price'].astype('int')\n",
    "df_tomato['Max Price'] = df_tomato['Max Price'].astype('int')\n",
    "#df_tomato['Modal Price'] = df_tomato['Modal Price'].astype('int')\n",
    "df_tomato['Max Temperature'] = df_tomato['Max Temperature'].astype('int')\n",
    "df_tomato['Min Temperature'] = df_tomato['Min Temperature'].astype('int')\n",
    "df_tomato['Humidity (in Percentage)'] = df_tomato['Humidity (in Percentage)'].astype('int')\n",
    "df_tomato['Avg Rainfall (in mm)'] = df_tomato['Avg Rainfall (in mm)'].astype('int')"
   ]
  },
  {
   "cell_type": "code",
   "execution_count": 13,
   "metadata": {},
   "outputs": [
    {
     "data": {
      "text/html": [
       "<div>\n",
       "<style scoped>\n",
       "    .dataframe tbody tr th:only-of-type {\n",
       "        vertical-align: middle;\n",
       "    }\n",
       "\n",
       "    .dataframe tbody tr th {\n",
       "        vertical-align: top;\n",
       "    }\n",
       "\n",
       "    .dataframe thead th {\n",
       "        text-align: right;\n",
       "    }\n",
       "</style>\n",
       "<table border=\"1\" class=\"dataframe\">\n",
       "  <thead>\n",
       "    <tr style=\"text-align: right;\">\n",
       "      <th></th>\n",
       "      <th>Min Price</th>\n",
       "      <th>Max Price</th>\n",
       "      <th>Max Temperature</th>\n",
       "      <th>Min Temperature</th>\n",
       "      <th>Humidity (in Percentage)</th>\n",
       "      <th>Avg Rainfall (in mm)</th>\n",
       "      <th>Arrival Date _Apr</th>\n",
       "      <th>Arrival Date _Aug</th>\n",
       "      <th>Arrival Date _Dec</th>\n",
       "      <th>Arrival Date _Feb</th>\n",
       "      <th>Arrival Date _Jan</th>\n",
       "      <th>Arrival Date _Jul</th>\n",
       "      <th>Arrival Date _Jun</th>\n",
       "      <th>Arrival Date _Mar</th>\n",
       "      <th>Arrival Date _May</th>\n",
       "      <th>Arrival Date _Nov</th>\n",
       "      <th>Arrival Date _Oct</th>\n",
       "      <th>Arrival Date _Sep</th>\n",
       "    </tr>\n",
       "  </thead>\n",
       "  <tbody>\n",
       "    <tr>\n",
       "      <th>0</th>\n",
       "      <td>300</td>\n",
       "      <td>600</td>\n",
       "      <td>28</td>\n",
       "      <td>18</td>\n",
       "      <td>72</td>\n",
       "      <td>5</td>\n",
       "      <td>0</td>\n",
       "      <td>0</td>\n",
       "      <td>0</td>\n",
       "      <td>0</td>\n",
       "      <td>1</td>\n",
       "      <td>0</td>\n",
       "      <td>0</td>\n",
       "      <td>0</td>\n",
       "      <td>0</td>\n",
       "      <td>0</td>\n",
       "      <td>0</td>\n",
       "      <td>0</td>\n",
       "    </tr>\n",
       "    <tr>\n",
       "      <th>1</th>\n",
       "      <td>300</td>\n",
       "      <td>800</td>\n",
       "      <td>31</td>\n",
       "      <td>19</td>\n",
       "      <td>68</td>\n",
       "      <td>5</td>\n",
       "      <td>0</td>\n",
       "      <td>0</td>\n",
       "      <td>0</td>\n",
       "      <td>0</td>\n",
       "      <td>1</td>\n",
       "      <td>0</td>\n",
       "      <td>0</td>\n",
       "      <td>0</td>\n",
       "      <td>0</td>\n",
       "      <td>0</td>\n",
       "      <td>0</td>\n",
       "      <td>0</td>\n",
       "    </tr>\n",
       "    <tr>\n",
       "      <th>2</th>\n",
       "      <td>100</td>\n",
       "      <td>500</td>\n",
       "      <td>29</td>\n",
       "      <td>16</td>\n",
       "      <td>64</td>\n",
       "      <td>5</td>\n",
       "      <td>0</td>\n",
       "      <td>0</td>\n",
       "      <td>0</td>\n",
       "      <td>0</td>\n",
       "      <td>1</td>\n",
       "      <td>0</td>\n",
       "      <td>0</td>\n",
       "      <td>0</td>\n",
       "      <td>0</td>\n",
       "      <td>0</td>\n",
       "      <td>0</td>\n",
       "      <td>0</td>\n",
       "    </tr>\n",
       "    <tr>\n",
       "      <th>3</th>\n",
       "      <td>100</td>\n",
       "      <td>400</td>\n",
       "      <td>32</td>\n",
       "      <td>19</td>\n",
       "      <td>68</td>\n",
       "      <td>5</td>\n",
       "      <td>0</td>\n",
       "      <td>0</td>\n",
       "      <td>0</td>\n",
       "      <td>0</td>\n",
       "      <td>1</td>\n",
       "      <td>0</td>\n",
       "      <td>0</td>\n",
       "      <td>0</td>\n",
       "      <td>0</td>\n",
       "      <td>0</td>\n",
       "      <td>0</td>\n",
       "      <td>0</td>\n",
       "    </tr>\n",
       "    <tr>\n",
       "      <th>4</th>\n",
       "      <td>400</td>\n",
       "      <td>800</td>\n",
       "      <td>28</td>\n",
       "      <td>16</td>\n",
       "      <td>65</td>\n",
       "      <td>5</td>\n",
       "      <td>0</td>\n",
       "      <td>0</td>\n",
       "      <td>0</td>\n",
       "      <td>0</td>\n",
       "      <td>1</td>\n",
       "      <td>0</td>\n",
       "      <td>0</td>\n",
       "      <td>0</td>\n",
       "      <td>0</td>\n",
       "      <td>0</td>\n",
       "      <td>0</td>\n",
       "      <td>0</td>\n",
       "    </tr>\n",
       "  </tbody>\n",
       "</table>\n",
       "</div>"
      ],
      "text/plain": [
       "   Min Price  Max Price  Max Temperature  Min Temperature  \\\n",
       "0        300        600               28               18   \n",
       "1        300        800               31               19   \n",
       "2        100        500               29               16   \n",
       "3        100        400               32               19   \n",
       "4        400        800               28               16   \n",
       "\n",
       "   Humidity (in Percentage)  Avg Rainfall (in mm)  Arrival Date _Apr  \\\n",
       "0                        72                     5                  0   \n",
       "1                        68                     5                  0   \n",
       "2                        64                     5                  0   \n",
       "3                        68                     5                  0   \n",
       "4                        65                     5                  0   \n",
       "\n",
       "   Arrival Date _Aug  Arrival Date _Dec  Arrival Date _Feb  Arrival Date _Jan  \\\n",
       "0                  0                  0                  0                  1   \n",
       "1                  0                  0                  0                  1   \n",
       "2                  0                  0                  0                  1   \n",
       "3                  0                  0                  0                  1   \n",
       "4                  0                  0                  0                  1   \n",
       "\n",
       "   Arrival Date _Jul  Arrival Date _Jun  Arrival Date _Mar  Arrival Date _May  \\\n",
       "0                  0                  0                  0                  0   \n",
       "1                  0                  0                  0                  0   \n",
       "2                  0                  0                  0                  0   \n",
       "3                  0                  0                  0                  0   \n",
       "4                  0                  0                  0                  0   \n",
       "\n",
       "   Arrival Date _Nov  Arrival Date _Oct  Arrival Date _Sep  \n",
       "0                  0                  0                  0  \n",
       "1                  0                  0                  0  \n",
       "2                  0                  0                  0  \n",
       "3                  0                  0                  0  \n",
       "4                  0                  0                  0  "
      ]
     },
     "execution_count": 13,
     "metadata": {},
     "output_type": "execute_result"
    }
   ],
   "source": [
    "df_tomato.head()"
   ]
  },
  {
   "cell_type": "code",
   "execution_count": 14,
   "metadata": {},
   "outputs": [
    {
     "name": "stdout",
     "output_type": "stream",
     "text": [
      "(84, 18) (84,)\n",
      "(36, 18) (36,)\n"
     ]
    }
   ],
   "source": [
    "# create training and testing vars\n",
    "X_train, X_test, y_train, y_test = train_test_split(df_tomato, y_train, test_size=0.3)\n",
    "print (X_train.shape, y_train.shape)\n",
    "print (X_test.shape, y_test.shape)\n",
    "#y_test.drop(y_test.iloc[504,:]) "
   ]
  },
  {
   "cell_type": "markdown",
   "metadata": {},
   "source": [
    "#### Implementing Gradient Boosting Model:\n",
    "> The Gradient Boost model is used with L2 Regularization method, So all the outlier detection and handling will be done by L2 and scaling, normalization will also be handled.The AUC score is calculated along with the model."
   ]
  },
  {
   "cell_type": "code",
   "execution_count": 15,
   "metadata": {},
   "outputs": [],
   "source": [
    "L_Reg = LinearRegression()\n",
    "model = L_Reg.fit(X_train, y_train)\n",
    "predictions = L_Reg.predict(X_test)"
   ]
  },
  {
   "cell_type": "markdown",
   "metadata": {},
   "source": [
    "#### Predicting test data:"
   ]
  },
  {
   "cell_type": "code",
   "execution_count": 16,
   "metadata": {},
   "outputs": [],
   "source": [
    "# Predict test set\n",
    "Y_test_pred = L_Reg.predict(X_test)\n"
   ]
  },
  {
   "cell_type": "code",
   "execution_count": 17,
   "metadata": {},
   "outputs": [
    {
     "name": "stdout",
     "output_type": "stream",
     "text": [
      "[ 434.88313299  586.08722819  303.85877541  638.93296402  315.68877702\n",
      "  313.40581356  292.21956066  289.33376253  950.76989201  566.93843592\n",
      "  906.47046688  874.27237146  414.87663595  471.22959164  506.17180515\n",
      "  467.37022166 1180.92881822  950.42299583  335.39302045  804.10340461\n",
      "  516.96843067  253.49416697  796.57230919 1302.85550509  753.97787964\n",
      "  931.29352973  309.86988336  469.41427254  302.91355758  922.80814717\n",
      "  368.4378405   619.85185381  304.02537857  715.70586959  459.55280603\n",
      "  592.39084871]\n"
     ]
    }
   ],
   "source": [
    "print(Y_test_pred)\n"
   ]
  },
  {
   "cell_type": "code",
   "execution_count": 18,
   "metadata": {
    "scrolled": true
   },
   "outputs": [
    {
     "data": {
      "text/plain": [
       "Text(0, 0.5, 'Predicted Values')"
      ]
     },
     "execution_count": 18,
     "metadata": {},
     "output_type": "execute_result"
    },
    {
     "data": {
      "image/png": "[encoded data removed]",
      "text/plain": [
       "<Figure size 432x288 with 1 Axes>"
      ]
     },
     "metadata": {
      "needs_background": "light"
     },
     "output_type": "display_data"
    }
   ],
   "source": [
    "plt.scatter(y_test, Y_test_pred)\n",
    "plt.xlabel('Actual Values')\n",
    "plt.ylabel('Predicted Values')"
   ]
  },
  {
   "cell_type": "code",
   "execution_count": 19,
   "metadata": {},
   "outputs": [
    {
     "name": "stdout",
     "output_type": "stream",
     "text": [
      "0.9909618748703909\n"
     ]
    }
   ],
   "source": [
    "print (model.score(X_test, y_test))\n"
   ]
  }
 ],
 "metadata": {
  "kernelspec": {
   "display_name": "Python 3",
   "language": "python",
   "name": "python3"
  },
  "language_info": {
   "codemirror_mode": {
    "name": "ipython",
    "version": 3
   },
   "file_extension": ".py",
   "mimetype": "text/x-python",
   "name": "python",
   "nbconvert_exporter": "python",
   "pygments_lexer": "ipython3",
   "version": "3.7.3"
  }
 },
 "nbformat": 4,
 "nbformat_minor": 1
}
